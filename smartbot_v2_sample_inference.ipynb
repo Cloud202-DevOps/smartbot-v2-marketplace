{
 "cells": [
  {
   "cell_type": "markdown",
   "id": "525e491c",
   "metadata": {},
   "source": [
    "# SmartBot V2 - Sample Inference Notebook\n",
    "\n",
    "This notebook demonstrates how to invoke the SmartBot V2 Multimodal Emotion Recognition model deployed as a SageMaker real-time endpoint."
   ]
  },
  {
   "cell_type": "code",
   "execution_count": null,
   "id": "f8c265a7",
   "metadata": {},
   "outputs": [],
   "source": [
    "# Install dependencies (Uncomment if needed)\n",
    "# !pip install boto3\n",
    "import boto3\n",
    "import json\n",
    "import base64\n",
    "from pathlib import Path"
   ]
  },
  {
   "cell_type": "code",
   "execution_count": null,
   "id": "6843694e",
   "metadata": {},
   "outputs": [],
   "source": [
    "# Load and encode your .wav file\n",
    "def load_audio_as_base64(file_path):\n",
    "    with open(file_path, 'rb') as f:\n",
    "        return base64.b64encode(f.read()).decode('utf-8')\n",
    "\n",
    "# Example usage with your sample .wav file\n",
    "audio_base64 = load_audio_as_base64(\"sample-3s.wav\")"
   ]
  },
  {
   "cell_type": "code",
   "execution_count": null,
   "id": "475b535f",
   "metadata": {},
   "outputs": [],
   "source": [
    "# Prepare payload for inference\n",
    "payload = {\n",
    "    \"invocations\": {\n",
    "        \"audio1\": audio_base64\n",
    "    }\n",
    "}\n",
    "print(json.dumps(payload, indent=2)[:500])"
   ]
  },
  {
   "cell_type": "code",
   "execution_count": null,
   "id": "7e0ac371",
   "metadata": {},
   "outputs": [],
   "source": [
    "# Invoke the SageMaker endpoint\n",
    "runtime = boto3.client(\"sagemaker-runtime\", region_name=\"eu-west-2\")\n",
    "endpoint_name = \"smartbot-v2-model-endpoint\"  # Replace if different\n",
    "\n",
    "response = runtime.invoke_endpoint(\n",
    "    EndpointName=endpoint_name,\n",
    "    ContentType=\"application/json\",\n",
    "    Body=json.dumps(payload)\n",
    ")\n",
    "\n",
    "result = json.loads(response[\"Body\"].read().decode())\n",
    "print(json.dumps(result, indent=2))"
   ]
  }
 ],
 "metadata": {},
 "nbformat": 4,
 "nbformat_minor": 5
}
